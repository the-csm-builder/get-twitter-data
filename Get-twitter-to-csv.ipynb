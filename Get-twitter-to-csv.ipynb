{
 "cells": [
  {
   "cell_type": "markdown",
   "metadata": {},
   "source": [
    "# Retrieve Twitter Data Programatically and save to CSV #\n",
    "\n",
    "I used twarc library to retrieve data, and save to csv. The library is easy to use, and sample code works.\n",
    "\n",
    "**This notebook is a proof of concept, only to be used for testing**\n",
    "\n",
    "## Setup ##\n",
    "* Download Notebook from github\n",
    "* Install libary (twarc) using pip command, preferred installer program for python language\n",
    "* Ensure the data-output folder is setup, the query csv results will get stored in this folder"
   ]
  },
  {
   "cell_type": "markdown",
   "metadata": {},
   "source": [
    "## Run get twitter api in notebook ##\n",
    "* Update bearer_token with your value saved in a safe place. **Dont share your bearer_token**\n",
    "* Enter query value, e.g. **\"Tesla\"**\n",
    "* Update start_time and end_time values. If testing with Tesla, use **minutes**. If testing the query on your brand switch minutes to **hours**"
   ]
  },
  {
   "cell_type": "code",
   "execution_count": null,
   "metadata": {},
   "outputs": [],
   "source": [
    "import json\n",
    "from datetime import datetime, timezone, timedelta\n",
    "\n",
    "from twarc.client2 import Twarc2\n",
    "from twarc_csv import CSVConverter\n",
    "\n",
    "# Your bearer token here\n",
    "t = Twarc2(bearer_token=\"XXXX\")\n",
    "\n",
    "# Start and end times must be in UTC\n",
    "start_time = datetime.now(timezone.utc) + timedelta(minutes=-2)\n",
    "# end_time cannot be immediately now, has to be at least 30 seconds ago.\n",
    "end_time = datetime.now(timezone.utc) + timedelta(minutes=-1)\n",
    "\n",
    "#query = \"dogs lang:en -is:retweet has:media\"\n",
    "query = \"Tesla\"\n",
    "\n",
    "print(f\"Searching for \\\"{query}\\\" tweets from {start_time} to {end_time}...\")\n",
    "\n",
    "# search_results is a generator, max_results is max tweets per page, not total, 100 is max when using all expansions.\n",
    "search_results = t.search_recent(\n",
    "    query=query, start_time=start_time, end_time=end_time, max_results=30)\n",
    "\n",
    "# Get all results page by page:\n",
    "for page in search_results:\n",
    "    # Do something with the page of results:\n",
    "    with open(\"data-output/brand_results.jsonl\", \"w+\") as f:\n",
    "        f.write(json.dumps(page) + \"\\n\")\n",
    "    print(\"Wrote a page of results...\")\n",
    "\n",
    "print(\"Converting to CSV...\")\n",
    "\n",
    "# This assumes `results.jsonl` is finished writing.\n",
    "with open(\"data-output/brand_results.jsonl\", \"r\") as infile:\n",
    "    with open(\"data-output/brand_output.csv\", \"w\") as outfile:\n",
    "        converter = CSVConverter(infile, outfile)\n",
    "        converter.process()\n",
    "\n",
    "print(\"Finished.\")\n",
    "\n"
   ]
  }
 ],
 "metadata": {
  "kernelspec": {
   "display_name": "Python 3.10.3 64-bit",
   "language": "python",
   "name": "python3"
  },
  "language_info": {
   "codemirror_mode": {
    "name": "ipython",
    "version": 3
   },
   "file_extension": ".py",
   "mimetype": "text/x-python",
   "name": "python",
   "nbconvert_exporter": "python",
   "pygments_lexer": "ipython3",
   "version": "3.10.3"
  },
  "orig_nbformat": 4,
  "vscode": {
   "interpreter": {
    "hash": "aee8b7b246df8f9039afb4144a1f6fd8d2ca17a180786b69acc140d282b71a49"
   }
  }
 },
 "nbformat": 4,
 "nbformat_minor": 2
}
