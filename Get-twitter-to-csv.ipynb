{
 "cells": [
  {
   "cell_type": "markdown",
   "metadata": {},
   "source": [
    "# Retrieve Twitter Data Programatically and save to CSV #\n",
    "\n",
    "I used twarc library to retrieve data, and save to csv. The library is easy to use, and sample code works.\n",
    "\n",
    "**This notebook is a proof of concept, only to be used for testing**\n",
    "\n",
    "## Setup ##\n",
    "* Download Notebook from github\n",
    "* Install libary (twarc) using pip command, preferred installer program for python language\n",
    "* Ensure the data-output folder is setup, the query csv results will get stored in this folder"
   ]
  },
  {
   "cell_type": "markdown",
   "metadata": {},
   "source": [
    "## Run get twitter api in notebook ##\n",
    "* Update bearer_token with your value saved in a safe place. **Dont share your bearer_token**\n",
    "* Enter query value, e.g. **\"Tesla\"**\n",
    "* Update start_time and end_time values. If testing with Tesla, use **minutes**. If testing the query on your brand switch minutes to **hours**"
   ]
  },
  {
   "cell_type": "code",
   "execution_count": null,
   "metadata": {},
   "outputs": [],
   "source": [
    "import json\n",
    "from datetime import datetime, timezone, timedelta\n",
    "\n",
    "from twarc.client2 import Twarc2\n",
    "from twarc_csv import CSVConverter\n",
    "\n",
    "# Your bearer token here\n",
    "t = Twarc2(bearer_token=\"XXXX\")\n",
    "\n",
    "# Start and end times must be in UTC\n",
    "start_time = datetime.now(timezone.utc) + timedelta(minutes=-2)\n",
    "# end_time cannot be immediately now, has to be at least 30 seconds ago.\n",
    "end_time = datetime.now(timezone.utc) + timedelta(minutes=-1)\n",
    "\n",
    "#query = \"dogs lang:en -is:retweet has:media\"\n",
    "query = \"Tesla\"\n",
    "\n",
    "print(f\"Searching for \\\"{query}\\\" tweets from {start_time} to {end_time}...\")\n",
    "\n",
    "# search_results is a generator, max_results is max tweets per page, not total, 100 is max when using all expansions.\n",
    "search_results = t.search_recent(\n",
    "    query=query, start_time=start_time, end_time=end_time, max_results=30)\n",
    "\n",
    "# Get all results page by page:\n",
    "for page in search_results:\n",
    "    # Do something with the page of results:\n",
    "    with open(\"data-output/brand_results.jsonl\", \"w+\") as f:\n",
    "        f.write(json.dumps(page) + \"\\n\")\n",
    "    print(\"Wrote a page of results...\")\n",
    "\n",
    "print(\"Converting to CSV...\")\n",
    "\n",
    "# This assumes `results.jsonl` is finished writing.\n",
    "with open(\"data-output/brand_results.jsonl\", \"r\") as infile:\n",
    "    with open(\"data-output/brand_output.csv\", \"w\") as outfile:\n",
    "        converter = CSVConverter(infile, outfile)\n",
    "        converter.process()\n",
    "\n",
    "print(\"Finished.\")\n",
    "\n"
   ]
  },
  {
   "cell_type": "markdown",
   "metadata": {},
   "source": [
    "## Run Sentiment analysis on the tweets ##"
   ]
  },
  {
   "cell_type": "markdown",
   "metadata": {},
   "source": [
    "### Option 1 create a dataframe to loop through the tweet data, and call sentiment analysis API in AWS ###\n",
    "* Import pandas library. If you dont' have pandas run pip3 install pandas (from a cell in the notebook) \n",
    "* Import boto3, which is AWS SDK\n",
    "* Change filename to match your file location (where your CSV file is stored)\n",
    "* Add or substract columns names, i picked created_at, text, source, and authorname\n",
    "* Review the results\n",
    "* **This is a proof of concept to demonstrate how quickly you can determine sentiment on text in your data set** There are optimal ways to set this up in a production scenario"
   ]
  },
  {
   "cell_type": "code",
   "execution_count": null,
   "metadata": {},
   "outputs": [],
   "source": [
    "import pandas as pd\n",
    "import boto3\n",
    "comprehend = boto3.client('comprehend')\n",
    "filemame = './XXX' # dont forget .csv\n",
    "df = pd.read_csv(filemame)\n",
    "\n",
    "for index, row in df.iterrows():\n",
    "    #print(row)\n",
    "    print(row['created_at'], row['text'], row['source'],row['author.name'],comprehend.detect_sentiment(Text=row['text'],LanguageCode='en')['Sentiment'])"
   ]
  },
  {
   "cell_type": "markdown",
   "metadata": {},
   "source": [
    "### Option 2 use CSV library in python to loop through the tweet data, and call sentiment analysis API in AWS ###\n",
    "* change filename to match your file location (where your CSV file is stored)\n",
    "* determine column location (in my example, column 14 = text). Sentiment analysis requires text.\n",
    "* review the results"
   ]
  },
  {
   "cell_type": "code",
   "execution_count": null,
   "metadata": {},
   "outputs": [],
   "source": [
    "import csv\n",
    "filename = './XXXX' # dont forget .csv\n",
    "with open(filename, 'r') as csvfile:\n",
    "    datareader = csv.reader(csvfile)\n",
    "    for row in datareader:\n",
    "        #print(row)\n",
    "        print(row[14], row[15], row[17],comprehend.detect_sentiment(Text=row[14],LanguageCode='en')['Sentiment'])"
   ]
  }
 ],
 "metadata": {
  "kernelspec": {
   "display_name": "Python 3.10.3 64-bit",
   "language": "python",
   "name": "python3"
  },
  "language_info": {
   "codemirror_mode": {
    "name": "ipython",
    "version": 3
   },
   "file_extension": ".py",
   "mimetype": "text/x-python",
   "name": "python",
   "nbconvert_exporter": "python",
   "pygments_lexer": "ipython3",
   "version": "3.10.3"
  },
  "orig_nbformat": 4,
  "vscode": {
   "interpreter": {
    "hash": "aee8b7b246df8f9039afb4144a1f6fd8d2ca17a180786b69acc140d282b71a49"
   }
  }
 },
 "nbformat": 4,
 "nbformat_minor": 2
}
